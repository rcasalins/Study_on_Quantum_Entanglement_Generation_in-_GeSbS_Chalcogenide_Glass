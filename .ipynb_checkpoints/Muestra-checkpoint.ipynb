{
 "cells": [
  {
   "cell_type": "code",
   "execution_count": 1,
   "id": "3867daa5-2cef-496a-aad8-82f8daa49736",
   "metadata": {
    "tags": []
   },
   "outputs": [],
   "source": [
    "import numpy as np\n",
    "import numpy.fft as fft\n",
    "\n",
    "class GeSbS:\n",
    "    def __init__(self, N: float,T_window: float):\n",
    "        \n",
    "        self.N = N                                                                                                  # Muestreo \n",
    "        self.T_window   = T_window                                                                                  # Ventana temporal\n",
    "        \n",
    "        # Ventana temporal derivados\n",
    "        self.t_step     = T_window / N                                                                              # Paso temporal\n",
    "        self.t_vector   = np.arange(-N/2,N/2,1) * self.t_step                                                       # Vector de tiempo\n",
    "        \n",
    "        # Ventana frecuencial\n",
    "        self.w_window   = 2*np.pi / T_window                                                                        # Ventana frecuencial\n",
    "        self.w_step     = self.w_window / N                                                                         # Paso frecuencias\n",
    "        self.w_vector   = (np.pi/T_window) * np.concatenate((np.arange(-(N/2)+1,1,1), np.arange(0,(N/2),1)))        # Vector de frecuencias\n",
    "    \n",
    "    def Gaussian(self, power: float, lambda_0: float, FWHM: float, width: float):\n",
    "        \n",
    "        # instance declaration\n",
    "        self.power         = power                                                                 # input power\n",
    "        self.lambda_0      = lambda_0                                                              # central wavelength\n",
    "        self.FWHM          = FWHM                                                                  # Full Width Half Maximum\n",
    "        self.width         = width                                                                 # spectrum width\n",
    "        self.c             = 3 * (10 **8)\n",
    "        \n",
    "        # equation values\n",
    "        self.lambda_i      = lambda_0 - (FWHM/2)                                                   # initial wavelength\n",
    "        self.lambda_f      = lambda_0 + (FWHM/2)                                                   # final wavelength\n",
    "        self.lambda_vector = np.linspace(self.lambda_i,self.lambda_f,self.N)                       # lambda vector\n",
    "        self.pulse_aux     = np.float128(-( (self.lambda_vector - lambda_0) / (width*2) ) ** 2)    # Gaussian exponential argument\n",
    "        self.pulse         = np.exp(self.pulse_aux)                                                # Gaussian equation\n",
    "        \n",
    "        # Fourier\n",
    "        self.fourier_pulse = fft.fft(self.pulse)\n",
    "        self.input_field   = self.fourier_pulse / np.max(self.fourier_pulse)\n",
    "        \n",
    "        return self.input_field\n",
    "    \n",
    "    def Output_field(self,input_field, device_length: float, betas, A_eff: float, n2: float, gamma: float, step_number = 1000, losses = 0, alpha = 0):\n",
    "        \n",
    "        # instance declaration\n",
    "        self.input_field         = input_field\n",
    "        self.device_length       = device_length\n",
    "        self.betas               = betas\n",
    "        self.A_eff               = A_eff\n",
    "        self.n2                  = n2\n",
    "        self.gamma               = gamma\n",
    "        self.losses              = losses\n",
    "        self.alpha               = alpha\n",
    "        self.step_number         = step_number\n",
    "        \n",
    "        # step size\n",
    "        self.dz                  =  self.device_length / self.step_number\n",
    "        \n",
    "        # Non linear operator\n",
    "        self.nonlinear_operator  = 1j*self.gamma*self.dz*(self.power)\n",
    "        \n",
    "        # dispersion operator\n",
    "        self.dispersion_operator = np.exp(1j*(0.5*self.betas[0]*(self.w_vector**2)-self.w_vector)*self.dz)*np.exp(1j*(1/6)*self.betas[1]*(self.w_vector**3)*self.dz)*np.exp(-self.alpha/2*self.dz) # phase factor of the pump wave\n",
    "        \n",
    "        # Main loop\n",
    "        Initial_HalfStep = input_field*np.exp((abs(input_field)**2)*self.nonlinear_operator/2) # 1/2 nonlinear\n",
    "        \n",
    "        for i in range(1,step_number+1):\n",
    "            \n",
    "            dispersion_HalfStep = fft.ifft(Initial_HalfStep) * self.dispersion_operator  # dispersion\n",
    "            field               = fft.fft(dispersion_HalfStep)\n",
    "    \n",
    "            Initial_HalfStep        = field * np.exp((abs(field)**2)*self.nonlinear_operator/2)\n",
    "        \n",
    "        field_ssfm  = Initial_HalfStep * np.exp((abs(Initial_HalfStep)**2)*self.nonlinear_operator/2)\n",
    "        self.final_Field = fft.ifft(field_ssfm)\n",
    "        \n",
    "        return self.final_Field"
   ]
  },
  {
   "cell_type": "markdown",
   "id": "2798d06b-3d53-48ec-8317-b76e5c063602",
   "metadata": {},
   "source": [
    "Creo un objeto que contenga la información basica del dispositivo:"
   ]
  },
  {
   "cell_type": "code",
   "execution_count": 2,
   "id": "9f984bd5-a3f4-4652-befe-9772ff49cac4",
   "metadata": {
    "tags": []
   },
   "outputs": [],
   "source": [
    "GeSbS_Obj = GeSbS(N = 4096,T_window = 100 * (10 ** -12))"
   ]
  },
  {
   "cell_type": "markdown",
   "id": "20df518e-2971-4863-a946-a894fad6b996",
   "metadata": {},
   "source": [
    "Aplico sobre el objeto un pulso de caracter Gaussiano:"
   ]
  },
  {
   "cell_type": "code",
   "execution_count": 3,
   "id": "1cf12df5-b19a-4d92-a506-0011b16d9193",
   "metadata": {
    "tags": []
   },
   "outputs": [],
   "source": [
    "Gaussian_beam = GeSbS_Obj.Gaussian(power = 20, lambda_0 = 1550 * (10 ** -9), FWHM = 1000 * (10 ** -9), width = 5.72 * (10 ** -9))"
   ]
  },
  {
   "cell_type": "markdown",
   "id": "3fa72f29-8a50-4e73-92aa-ea69635a1b8c",
   "metadata": {
    "tags": []
   },
   "source": [
    "Hallamos el campo de salida del material:"
   ]
  },
  {
   "cell_type": "code",
   "execution_count": 4,
   "id": "788ab25e-39c1-47d2-ae1f-c9bca8cd95a8",
   "metadata": {},
   "outputs": [],
   "source": [
    "# betas\n",
    "betas = np.array([-6.99 * (10 ** -25), -7.27929 * (10 ** -39)])\n",
    "\n",
    "\n",
    "Output = GeSbS_Obj.Output_field(input_field = Gaussian_beam, device_length = 13 * (10 ** -3), betas = betas, A_eff = .42 * (10 ** -12), n2 = 10 * (10 ** -18), gamma = 100)"
   ]
  }
 ],
 "metadata": {
  "kernelspec": {
   "display_name": "Python 3 (ipykernel)",
   "language": "python",
   "name": "python3"
  },
  "language_info": {
   "codemirror_mode": {
    "name": "ipython",
    "version": 3
   },
   "file_extension": ".py",
   "mimetype": "text/x-python",
   "name": "python",
   "nbconvert_exporter": "python",
   "pygments_lexer": "ipython3",
   "version": "3.11.1"
  }
 },
 "nbformat": 4,
 "nbformat_minor": 5
}
