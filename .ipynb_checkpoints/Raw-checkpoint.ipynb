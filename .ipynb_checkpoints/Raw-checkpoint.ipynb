{
 "cells": [
  {
   "cell_type": "markdown",
   "id": "caf14caf-1579-4abb-91b3-b1312e1fc983",
   "metadata": {
    "tags": []
   },
   "source": [
    "# Propagation code"
   ]
  },
  {
   "cell_type": "code",
   "execution_count": 1,
   "id": "ad4a199b-ddf3-4041-867e-3c519070dcc7",
   "metadata": {},
   "outputs": [],
   "source": [
    "import numpy as np\n",
    "import numpy.fft as fft"
   ]
  },
  {
   "cell_type": "code",
   "execution_count": 2,
   "id": "17c14b38-c774-4631-b2be-27095ddcfa30",
   "metadata": {
    "tags": []
   },
   "outputs": [],
   "source": [
    "# ventanas\n",
    "N = 4096                                                # Muestreo temporal\n",
    "T_window   = 100 * (10 ** -12)                                         # Ventana temporal\n",
    "t_step     = T_window / N                                    # Paso temporal\n",
    "t_vector   = np.arange(-N/2,N/2,1) * t_step         # vector de tiempo\n",
    "w_window   = 2*np.pi / T_window                                       # ventana frecuencial\n",
    "w_step     = w_window / N                                    # paso frecuencial\n",
    "#w_vector   = np.arange(-N/2,N/2,1) * w_step         # vector de frecuencias\n",
    "w_vector   = (np.pi/T_window) * np.concatenate((np.arange(-(N/2)+1,1,1), np.arange(0,(N/2),1)))"
   ]
  },
  {
   "cell_type": "code",
   "execution_count": 3,
   "id": "5142883e-74f8-45ea-bb25-2e900bc06f56",
   "metadata": {
    "tags": []
   },
   "outputs": [
    {
     "data": {
      "text/plain": [
       "array([ 1.        +0.j        , -0.9987095 -0.000766j  ,\n",
       "        0.99484798+0.00152608j, ..., -0.98844527+0.00227439j,\n",
       "        0.99484798-0.00152608j, -0.9987095 +0.000766j  ])"
      ]
     },
     "execution_count": 3,
     "metadata": {},
     "output_type": "execute_result"
    }
   ],
   "source": [
    "# pulso\n",
    "P             = 20                                  # potencia de entrada en W\n",
    "c             = 3 * (10 **8)\n",
    "lambda_0      = 1550 * (10 ** -9)                  # longitud de onda central\n",
    "FWHM          = 1000 * (10 ** -9)                  # Full Width Half Maximum\n",
    "width         = 5.72 * (10 ** -9)                  # Tamaño del espectro transmitido\n",
    "lambda_i      = lambda_0 - (FWHM/2)                # W inicial\n",
    "lambda_f      = lambda_0 + (FWHM/2)                # W final\n",
    "lambda_vector = np.linspace(lambda_i,lambda_f,N)   # vector de lambda\n",
    "pulse_aux     = np.float128(-( (lambda_vector - lambda_0) / (width*2) ) ** 2)    # Gaussiana\n",
    "pulse         = np.exp(pulse_aux)                                                # Gaussiana\n",
    "fourier_pulse = fft.fft(pulse)                                                   # Transformada de Fourier pulso\n",
    "input_field   = fourier_pulse / np.max(fourier_pulse)                            # pulso de entrada\n",
    "input_field"
   ]
  },
  {
   "cell_type": "code",
   "execution_count": 4,
   "id": "3fa0c2da-3d7e-41dd-b604-990a85ec0791",
   "metadata": {},
   "outputs": [],
   "source": [
    "# Parametros del dispositivo\n",
    "\n",
    "#parametros lineales\n",
    "device_length = 13 * (10 ** -3)                                           # largo del dispositivo\n",
    "betas         = np.array([-6.99 * (10 ** -25), -7.27929 * (10 ** -39)])   # parametros de dispersión - beta[0]=s^2/m, beta[1]=s^3/m\n",
    "A_eff         = .42 * (10 ** -12)                                         # Area efectiva (m^2)\n",
    "Losses        = 0                                                         # Perdidas lineales dB/cm\n",
    "alpha         = 0                                                         # Perdidas lineales en cm^-1\n",
    "\n",
    "#parametros no lineales\n",
    "n2            = 10 * (10 ** -18)                                          # Indice de refracción no lineal (m^2)/W\n",
    "#gamma         = (2 * np.pi * n2) / (lambda_0 * A_eff)                     # Parametro no lineal\n",
    "gamma         = 100"
   ]
  },
  {
   "cell_type": "code",
   "execution_count": 5,
   "id": "617db027-f5f4-4d6c-bf8b-3e433cdd05a3",
   "metadata": {},
   "outputs": [],
   "source": [
    "# Especificaciones de la simulación\n",
    "step_number = 1000                                 # pasos de la simulación\n",
    "dz          = device_length / step_number          # tamaño de paso"
   ]
  },
  {
   "cell_type": "code",
   "execution_count": 6,
   "id": "941d6044-8843-4783-9d65-695d93e167a2",
   "metadata": {},
   "outputs": [
    {
     "data": {
      "text/plain": [
       "array([-6.43084016e+13, -6.42769857e+13, -6.42455698e+13, ...,\n",
       "        6.42455698e+13,  6.42769857e+13,  6.43084016e+13])"
      ]
     },
     "execution_count": 6,
     "metadata": {},
     "output_type": "execute_result"
    }
   ],
   "source": [
    "# Operadores\n",
    "dispersion_operator = np.exp(1j*(0.5*betas[0]*(w_vector**2)-w_vector)*dz)*np.exp(1j*(1/6)*betas[1]*(w_vector**3)*dz)*np.exp(-alpha/2*dz) # phase factor of the pump wave\n",
    "nonlineal_operator  = 1j*P*gamma*dz               # Operador no lineal\n",
    "w_vector"
   ]
  },
  {
   "cell_type": "code",
   "execution_count": 7,
   "id": "b4c6ac4d-76bc-4bd0-8acb-5bcc7e2eb018",
   "metadata": {
    "tags": []
   },
   "outputs": [],
   "source": [
    "# Main Loop \n",
    "# Esquema 1/2 nonlinear, dispersion, 1/2 nonlinear\n",
    "Initial_HalfStep = input_field*np.exp((abs(input_field)**2)*nonlineal_operator/2) # 1/2 nonlinear\n",
    "\n",
    "for i in range(1,step_number+1):\n",
    "    \n",
    "    dispersion_HalfStep = fft.ifft(Initial_HalfStep) * dispersion_operator  # dispersion\n",
    "    field               = fft.fft(dispersion_HalfStep)\n",
    "    \n",
    "    Initial_HalfStep        = field * np.exp((abs(field)**2)*nonlineal_operator/2)\n",
    "\n",
    "    \n",
    "field_ssfm  = Initial_HalfStep * np.exp((abs(Initial_HalfStep)**2)*nonlineal_operator/2)   # \n",
    "final_Field = fft.ifft(field_ssfm)"
   ]
  },
  {
   "cell_type": "code",
   "execution_count": 8,
   "id": "663272d1-113a-4695-9cd8-57a828db373b",
   "metadata": {},
   "outputs": [],
   "source": [
    "import matplotlib.pyplot as plt\n",
    "import seaborn as sns"
   ]
  },
  {
   "cell_type": "code",
   "execution_count": 9,
   "id": "cb27c538-4655-4642-aeb8-f06215014726",
   "metadata": {},
   "outputs": [
    {
     "data": {
      "text/plain": [
       "(array([1.79366203e-41+0.j, 7.52570303e-37+0.j, 7.63968240e-37+0.j, ...,\n",
       "        5.95869129e-38+0.j, 2.64486229e-38+0.j, 8.67074884e-37+0.j]),\n",
       " array([2.47321184e-830, 1.59743832e-829, 1.03083962e-828, ...,\n",
       "        1.03083962e-828, 1.59743832e-829, 2.47321184e-830], dtype=float128))"
      ]
     },
     "execution_count": 9,
     "metadata": {},
     "output_type": "execute_result"
    }
   ],
   "source": [
    "ifft_input_pulse    = fft.ifft(input_field) * np.conj(fft.ifft(input_field))\n",
    "final_field_dBs     = 10*np.log10( (final_Field*np.conj(final_Field)) / np.max(ifft_input_pulse))\n",
    "lambdap             = 2*np.pi*c/(w_vector+2*np.pi*c/lambda_0)\n",
    "imput_field_dBs     = 10*np.log10( ifft_input_pulse/ np.max(ifft_input_pulse) )\n",
    "ifft_input_pulse, pulse"
   ]
  },
  {
   "cell_type": "code",
   "execution_count": 11,
   "id": "290adbaf-316f-432b-8903-65b8d6986913",
   "metadata": {},
   "outputs": [
    {
     "data": {
      "image/png": "[encoded data removed]",
      "text/plain": [
       "<Figure size 640x480 with 1 Axes>"
      ]
     },
     "metadata": {},
     "output_type": "display_data"
    }
   ],
   "source": [
    "x, y = np.real(lambdap), np.real(final_field_dBs)\n",
    "sns.set(style=\"darkgrid\")\n",
    "\n",
    "fig, ax = plt.subplots(dpi=100)\n",
    "ax.plot(x, y, label=\"Curve\", color=\"#191970\")\n",
    "#ax.plot(x,imput_field_dBs, color='red')\n",
    "ax.fill(x,y, facecolor='#191970', linewidth=1, alpha=0.4)\n",
    "plt.ylim([-40,1])\n",
    "#plt.xlim([-40,1])\n",
    "ax.legend()\n",
    "plt.show()"
   ]
  },
  {
   "cell_type": "code",
   "execution_count": null,
   "id": "3a960b7d-fdeb-4cc5-ba5e-2ab79416ab04",
   "metadata": {},
   "outputs": [],
   "source": []
  }
 ],
 "metadata": {
  "kernelspec": {
   "display_name": "Python 3 (ipykernel)",
   "language": "python",
   "name": "python3"
  },
  "language_info": {
   "codemirror_mode": {
    "name": "ipython",
    "version": 3
   },
   "file_extension": ".py",
   "mimetype": "text/x-python",
   "name": "python",
   "nbconvert_exporter": "python",
   "pygments_lexer": "ipython3",
   "version": "3.11.1"
  }
 },
 "nbformat": 4,
 "nbformat_minor": 5
}
