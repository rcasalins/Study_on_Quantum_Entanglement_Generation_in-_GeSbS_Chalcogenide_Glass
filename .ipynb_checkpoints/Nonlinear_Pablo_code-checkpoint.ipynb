{
 "cells": [
  {
   "cell_type": "markdown",
   "id": "caf14caf-1579-4abb-91b3-b1312e1fc983",
   "metadata": {
    "tags": []
   },
   "source": [
    "# Propagation code"
   ]
  },
  {
   "cell_type": "code",
   "execution_count": 25,
   "id": "781ea95f-420e-4130-9984-f1ddc61e4f08",
   "metadata": {
    "tags": []
   },
   "outputs": [],
   "source": [
    "# libraries\n",
    "import numpy as np\n",
    "import numpy.fft as fft\n",
    "import matplotlib.pyplot as plt\n",
    "import seaborn as sns"
   ]
  },
  {
   "cell_type": "markdown",
   "id": "b6b89690-3ce4-4fda-9135-48c4f909bb54",
   "metadata": {},
   "source": [
    "Definition of variables:"
   ]
  },
  {
   "cell_type": "code",
   "execution_count": 26,
   "id": "ed26a650-6dcb-4f3f-8ae2-f78db35542ec",
   "metadata": {
    "tags": []
   },
   "outputs": [],
   "source": [
    "# Definition of variables\n",
    "\n",
    "N       = 1024*4                            # Number of steps; Default 1025\n",
    "lambda0 = 1550 * (10 ** -9)                 # Central spectrum wavelength; Default 1580 * (10 ** -9) m\n",
    "Window  = 1000 * (10 ** -9)                 # Size of the wavelength window; Default 200 m\n",
    "width   = 5.72 * (10 ** -9)                 # Size of the transmitted spectrum: 3.7e-9 to 7.3e-9 [m] 5.8e-9 3.5e-9\n",
    "Nphi2   = 1001;                             # Number of phi2 points where the FWHM will be measured\n",
    "c       = 3 * (10 ** 8)                     # Speed of light in vacuum"
   ]
  },
  {
   "cell_type": "code",
   "execution_count": 27,
   "id": "dd6faf29-f3fb-4720-8bf2-4ed55d15e63f",
   "metadata": {
    "tags": []
   },
   "outputs": [],
   "source": [
    "# derivate variables\n",
    "\n",
    "lambdai   = lambda0 - (Window / 2)                                                                      # Initial wavelength [m]\n",
    "lambdaf   = lambda0 + (Window / 2)                                                                      # Final wavelength [m]\n",
    "lambdav   = np.linspace(lambdai,lambdaf,N)                                                              # Lambda vector\n",
    "\n",
    "nu0       = c / lambda0                                                                                 # Central frequency\n",
    "nuv       = np.flip( (1 / lambdav) * c )                                                                # Frequency vector; Inverse relation so flip the output\n",
    "Trans_aux = np.float128(-( (lambdav - lambda0) / (width*2) ) ** 2)                                      # auxiliar value for Trans\n",
    "Trans     = np.exp(Trans_aux)                                                                           # Supergaussian 32n order to simulate the spectrum\n",
    "                       \n",
    "dNu       = nuv[1] - nuv[0]                                                                             # Frequency differential [1/s]\n",
    "Nu        = nuv[-1] - nuv[0] + dNu                                                                      # Inverted normalization parameter\n",
    "t         = (1/Nu) *  np.arange(-(N-1)/2,((N-1)/2)+1,1)                                                 # Calculation of the Fourier transformed vector - time [s]\n",
    "   \n",
    "Deltanu   = (nuv - nu0) * np.ones(len(nuv))                                                             # Taylor expansion term [1/s]\n",
    "\n",
    "phim      = 0 * (10 ** -24)                                                                             #  Value of beta2, dispersion term introduction\n",
    "disp      = np.exp( (1j) * (-phim+(2*1j-1)*(phim/Nphi2)) * 2 * (np.pi ** 2) * Deltanu * Deltanu )       #  Dispersion term\n",
    "Sin_aux   = (width * fft.fft(Trans*disp))\n",
    "Sin       = fft.fftshift(Sin_aux)                                                                       # Fourier transform of the spectrum times the dispersion phase\n",
    "\n",
    "aaa       = Trans\n",
    "ap        = fft.fftshift(fft.fft(aaa*disp))"
   ]
  },
  {
   "cell_type": "markdown",
   "id": "c545b59e-50ad-4e91-bdf7-277a0f415cc1",
   "metadata": {},
   "source": [
    "## Device"
   ]
  },
  {
   "cell_type": "code",
   "execution_count": 28,
   "id": "fd612cab-f34c-4c38-8994-c3850c73b982",
   "metadata": {
    "tags": []
   },
   "outputs": [],
   "source": [
    "# Distance and Dispersion parameters\n",
    "distance = .3 * (10 ** -3)           # 10e-3;%1e-3;%0.1e-3;  - 1e-2 Device length [m] IMPORTANTE PARA VERIFICIAR\n",
    "alphaL    = 0*200                      # Linear losses [1/m]\n",
    "tauFC    = 0.5 * (10 ** -9)           # FC relaxation time [s] 1e-9\n",
    "n0s      = 3.47                       # Refractive index Silicon @signal wavelength\n",
    "n0p      = 3.48                       # Refractive index Silicon @pump wavelength\n",
    "n2       = 6e-18                      # Kerr coefficient [m^2/W]\n",
    "betaTPA  = 0.8e-11;                   # TPA coefficient [m/W]"
   ]
  },
  {
   "cell_type": "code",
   "execution_count": 29,
   "id": "170b8fa2-2e7e-479c-8700-4ffc416735e4",
   "metadata": {
    "tags": []
   },
   "outputs": [],
   "source": [
    "# Free Carrier parameters\n",
    "sigma    = 1.45e-21                 # [m^2]\n",
    "kc       = 1.35e-27\n",
    "\n",
    "c        = 3 * (10 ** 8)            # speed of light in vaccuum [m/s]\n",
    "epsilon  = 8.854 * (10 ** -12)      # Permittivity in vacuum\n",
    "hbar     = 1.054 * (10 ** -34)      # Planck's constant over 2pi"
   ]
  },
  {
   "cell_type": "code",
   "execution_count": 30,
   "id": "b02a8cac-1937-4a02-bb05-48f81b45e68f",
   "metadata": {
    "partialCollapse": true,
    "tags": []
   },
   "outputs": [],
   "source": [
    "# Dispersion terms\n",
    "beta2p = -4 * (10 ** -24)               # [s^2/m] -1e-24\n",
    "beta3p = -0.0915 * (10 ** -34)          # [s^3/m] "
   ]
  },
  {
   "cell_type": "code",
   "execution_count": 31,
   "id": "17af9c6b-c7ec-48c0-ba0b-0a305e924276",
   "metadata": {
    "tags": []
   },
   "outputs": [],
   "source": [
    "#Raman parameters\n",
    "gR     = 8.9 * (10 ** -11)                # Raman gain [m/W]\n",
    "GammaR = np.pi * 105 * (10 ** 9)        # Spectral linewidth of Raman Gain\n",
    "OmegaR = 2*np.pi * 15.6 * (10 ** 12)    # Central frequency of Raman spectrum\n",
    "gammaR = (gR*GammaR)/OmegaR\n",
    "tau1   = 1 / np.sqrt( (OmegaR ** 2) + (GammaR ** 2))\n",
    "tau2   = 1/GammaR"
   ]
  },
  {
   "cell_type": "markdown",
   "id": "edc506fb-cb87-4aef-b4b7-f04be4b32913",
   "metadata": {},
   "source": [
    "## puslses"
   ]
  },
  {
   "cell_type": "code",
   "execution_count": 32,
   "id": "7a591255-f419-427a-90b2-174d2f560e82",
   "metadata": {},
   "outputs": [],
   "source": [
    "T0s = 5 * (10 ** -12)            # 5e-12 signal pulse HW@1/e;"
   ]
  },
  {
   "cell_type": "code",
   "execution_count": 33,
   "id": "2337f5d5-97c4-4033-ba34-da5e1967f0a6",
   "metadata": {
    "tags": []
   },
   "outputs": [],
   "source": [
    "# pump beam\n",
    "lambda0p = 1550 * (10 ** -9)          # pump wavelength\n",
    "omega0p  = (2*np.pi*c) / lambda0p     # central frequency for pump\n",
    "k0p      = (2*np.pi) / lambda0p       # free space wave vector\n",
    "T0p      = 1 * (10 ** -12)            # 5e-12; %pump pulse HW@1/e\n",
    "ngp      = 5                          # Pump group index\n",
    "rp       = betaTPA/ (2*k0p*n2)        # mu parameter for pump\n",
    "mup      = 2*kc*k0p/sigma             # mu parameter for pump"
   ]
  },
  {
   "cell_type": "markdown",
   "id": "8f6af376-9f21-467e-8f00-c82c4f589be7",
   "metadata": {},
   "source": [
    "## Simulation"
   ]
  },
  {
   "cell_type": "code",
   "execution_count": 34,
   "id": "fb175629-7b3f-470c-a5e1-a972f7271872",
   "metadata": {
    "tags": []
   },
   "outputs": [
    {
     "data": {
      "text/plain": [
       "array([-6.43084016e+13, -6.42769857e+13, -6.42455698e+13, ...,\n",
       "        6.42455698e+13,  6.42769857e+13,  6.43084016e+13])"
      ]
     },
     "execution_count": 34,
     "metadata": {},
     "output_type": "execute_result"
    }
   ],
   "source": [
    "# Variables\n",
    "nt       = N\n",
    "Tmax     = 20*T0s                                                                           # 20*max(T0p,T0s); %FFT points and window size\n",
    "step_num = 1000                                                                             # Number of z steps, default value!!\n",
    "deltaz   = distance / step_num                                                              # slice size for distance\n",
    "dtau     = (2*Tmax) / nt                                                                    # slice size for time\n",
    "tau      = t                        \n",
    "omega    = (np.pi/Tmax) * np.concatenate((np.arange(-(nt/2)+1,1,1), np.arange(0,(nt/2),1)))\n",
    "numb     = 1                                                                                # numb=10\n",
    "p        = step_num/numb                                                                    # p is the amount of pulses to be stored\n",
    "\n",
    "ap       = ap * (1/np.max(ap))\n",
    "ap0      = ap\n",
    "omega"
   ]
  },
  {
   "cell_type": "markdown",
   "id": "64df4702-b906-487f-a06f-93282d428046",
   "metadata": {},
   "source": [
    "## Simulation Specs"
   ]
  },
  {
   "cell_type": "code",
   "execution_count": 35,
   "id": "9a81bb0a-7c64-44aa-b28b-ef3bf2965c7a",
   "metadata": {
    "tags": []
   },
   "outputs": [],
   "source": [
    "# Calculation for BPM using the split step method\n",
    "R = 0     # if there is Raman, R=1, otherwise R = (any other value)\n",
    "m = 1     # if there are FC and Kerr, m=1, otherwise m=0"
   ]
  },
  {
   "cell_type": "code",
   "execution_count": 36,
   "id": "0ab8ca3f-c5a8-41b1-89dc-7d8779f46a71",
   "metadata": {
    "partialCollapse": true,
    "tags": []
   },
   "outputs": [],
   "source": [
    "# For the Following nonlinear parameters, put to 1 if they should be simulated and to 0 if not. s: signal and p: pump "
   ]
  },
  {
   "cell_type": "code",
   "execution_count": 37,
   "id": "d07de9fb-b17c-4924-8ef1-f183b98d5bb9",
   "metadata": {
    "tags": []
   },
   "outputs": [],
   "source": [
    "#Linear Absorption\n",
    "ABSs = 0\n",
    "ABSp = 1"
   ]
  },
  {
   "cell_type": "code",
   "execution_count": 38,
   "id": "ec26fde7-d54b-4021-8761-6cc815543d24",
   "metadata": {
    "tags": []
   },
   "outputs": [],
   "source": [
    "#Kerr effect\n",
    "KERRs = 0\n",
    "KERRp = 1"
   ]
  },
  {
   "cell_type": "code",
   "execution_count": 39,
   "id": "adacc4ff-d940-485d-a006-dd57254ed531",
   "metadata": {
    "tags": []
   },
   "outputs": [],
   "source": [
    "#Free Carrier Absorption\n",
    "FCAs = 0\n",
    "FCAp = 1"
   ]
  },
  {
   "cell_type": "code",
   "execution_count": 40,
   "id": "066ef50d-4773-458a-8e4d-f081ed0637d4",
   "metadata": {
    "tags": []
   },
   "outputs": [],
   "source": [
    "#Free Carrier Refraction\n",
    "FCRs = 0\n",
    "FCRp = 1"
   ]
  },
  {
   "cell_type": "code",
   "execution_count": 41,
   "id": "a156cc57-c7ec-48af-8fff-8d2f494de9b6",
   "metadata": {
    "tags": []
   },
   "outputs": [],
   "source": [
    "#Two-Photon Absorption\n",
    "TPAs = 0\n",
    "TPAp = 1"
   ]
  },
  {
   "cell_type": "code",
   "execution_count": 42,
   "id": "3c7c6a78-2ffa-4522-9626-9b039b1d1a98",
   "metadata": {
    "tags": []
   },
   "outputs": [],
   "source": [
    "# Second Order Dispersion\n",
    "disps2 = 0\n",
    "dispp2 = 1"
   ]
  },
  {
   "cell_type": "code",
   "execution_count": 43,
   "id": "00153243-e18c-4ac1-a0c2-228900d57f3a",
   "metadata": {
    "tags": []
   },
   "outputs": [],
   "source": [
    "# Third Order Dispersion\n",
    "disps3 = 0\n",
    "dispp3 = 1"
   ]
  },
  {
   "cell_type": "code",
   "execution_count": 44,
   "id": "d2cb432f-e36b-4aaa-86a0-3ed8858a3f53",
   "metadata": {
    "tags": []
   },
   "outputs": [],
   "source": [
    "# Waveguide parameters\n",
    "h1         = 1000                                                   # lower cladding (nm)\n",
    "h2         = 220                                                    # silicon core (nm)\n",
    "h3         = 2000-h1-h2                                             # upper cladding (nm)\n",
    "\n",
    "w1         = 220                                                    #170;                   % waveguide full-width (nm) one of the rails\n",
    "w2         = 200                                                    # slot full-width (nm)\n",
    "w1         = 2*w1                                                   # waveguide full-width (nm) two of the rails\n",
    "side       = (3000-w1-w2)/2                                         # space on side of waveguide (nm)\n",
    "\n",
    "vg         = c / ngp                                                # group velocity\n",
    "\n",
    "A0         = h2*(w1)* (10 ** -18)                                   # h2*(w1+w2)*1e-18;\n",
    "\n",
    "kappa      = 0.431\n",
    "\n",
    "gamma1     = (8.2558 * (10**-21) + 1j * 1.3139 * (10 ** -22))       # slot nonlinear w=216nm W_slot=157nm\n",
    "gamma2     = (1.1828 * (10**-21) + 1j*3.3796 * (10 ** -22))         # Si nonlinearity\n",
    "gamma      = (9.3254 * (10**-8)  + 1j*2.28285 * (10**-9))*A0        # (4.11672e-8+1i*8.98553e-10)*A0;\n",
    "\n",
    "gamma_real = gamma.real\n",
    "gamma_imag = gamma.imag\n",
    "\n",
    "neff       = 3.48\n",
    "A_L        = c/(neff*vg)\n",
    "A_FC       = c*kappa/(neff*vg)\n",
    "\n",
    "n_FCp      = omega0p*kappa/(neff*vg)\n",
    "\n",
    "alphaL     = A_L*alphaL\n",
    "sigma      = sigma*A_FC\n",
    "mup        = n_FCp*mup/k0p\n",
    "I0p        = 20\n",
    "\n",
    "ggama_r    = 3*omega0p*(gamma_real*KERRp)/(4*epsilon*A0*(vg ** 2));     #446.5*KERRp;\n",
    "ggama_i    = 3*omega0p*(gamma_imag*TPAp)/(4*epsilon*A0*(vg ** 2));\n",
    "\n",
    "Slength    = ((T0p ** 2)/beta2p)\n",
    "Tlength    = ((T0p ** 3)/beta3p)\n",
    "Nlength    = 1/(I0p*(ggama_r))"
   ]
  },
  {
   "cell_type": "code",
   "execution_count": 45,
   "id": "ba4454f7-4a3b-4ae3-babe-7183ee4d1175",
   "metadata": {
    "tags": []
   },
   "outputs": [
    {
     "data": {
      "text/plain": [
       "0.0"
      ]
     },
     "execution_count": 45,
     "metadata": {},
     "output_type": "execute_result"
    }
   ],
   "source": [
    "# Disperion term\n",
    "pump_fourier_factor = np.exp(1j*(0.5*beta2p*dispp2*(omega**2)-omega)*deltaz)*np.exp(1j*(1/6)*beta3p*dispp3*(omega**3)*deltaz)*np.exp(-ABSp*alphaL/2*deltaz) # phase factor of the pump wave\n",
    "alphaL"
   ]
  },
  {
   "cell_type": "code",
   "execution_count": 46,
   "id": "f07c2bc4-406f-40e8-bceb-3bc7b210812a",
   "metadata": {
    "tags": []
   },
   "outputs": [],
   "source": [
    "# Keer term\n",
    "pump_Kerr_hz = 1j*I0p*(ggama_r+ggama_i*1j)*deltaz    # nonlinear factor for Kerr effect of the pump wave"
   ]
  },
  {
   "cell_type": "code",
   "execution_count": 47,
   "id": "4a4a1156-741e-4700-9751-5ef2ef92c005",
   "metadata": {
    "tags": []
   },
   "outputs": [],
   "source": [
    "# Free carrier term\n",
    "pump_FC_hz = sigma/2*(FCAp*1+FCRp*1j*mup)*deltaz"
   ]
  },
  {
   "cell_type": "markdown",
   "id": "a20b1023-ab91-4c69-89ad-b46ff22ec02f",
   "metadata": {},
   "source": [
    "## Main loop"
   ]
  },
  {
   "cell_type": "code",
   "execution_count": 48,
   "id": "d008b07f-2bc3-48b6-bd38-7aa4a73e22cd",
   "metadata": {
    "tags": []
   },
   "outputs": [],
   "source": [
    "# scheme: 1/2N -> D -> 1/2N; first half step nonlinear\n",
    "\n",
    "Nc    = np.zeros([np.array([tau]).shape[0],np.array([tau]).shape[1]])\n",
    "\n",
    "tempp = ap\n",
    "ass = 0\n",
    "\n",
    "if m == 1:\n",
    "    tempp = ap*np.exp((abs(ap)**2)*pump_Kerr_hz/2)*np.exp(-pump_FC_hz*Nc/2)\n",
    "    \n",
    "if R==1:\n",
    "    temps           = temps + 1j*gammaR*ap*fft.fft(HR1*fft.ifft(np.conj(ap)*ass))*deltaz/2\n",
    "    tempp           = tempp + 1j*gammaR*ass*fft.fft(HR2*fft.ifft(np.conj(ass)*ap))*deltaz/2\n",
    "    Ramanterms[:,1] = gammaR*ap*fft.fft(HR1*fft.ifft(np.conj(ap)*ass))*deltaz/2\n",
    "    "
   ]
  },
  {
   "cell_type": "code",
   "execution_count": 49,
   "id": "1578eab8-e0c6-4f68-ad0e-147a9ed38113",
   "metadata": {
    "tags": []
   },
   "outputs": [],
   "source": [
    "# Main loop\n",
    "for i in range(1,step_num+1):\n",
    "    f_tempp = fft.ifft(tempp)*pump_fourier_factor\n",
    "    ap = fft.fft(f_tempp)\n",
    "    \n",
    "    if m == 1:\n",
    "        tempp = ap*np.exp((abs(ap)**2)*pump_Kerr_hz)*np.exp(-pump_FC_hz*Nc)\n",
    "        \n",
    "    if R == 1:\n",
    "        tempp = tempp + 1j*gammaR*ass*fft.fft(HR2*fft.ifft(np.conj(ass)*ap))*deltaz\n",
    "        \n",
    "if m==1:\n",
    "    ap = tempp*np.exp((abs(ap)**2)*pump_Kerr_hz/2)*np.exp(-pump_FC_hz*Nc/2) #Final field\n",
    "else:\n",
    "    ap = tempp\n",
    "    \n",
    "if R == 1:\n",
    "    ap = tempp + 1j*gammaR*ass*fft.fft(HR2*fft.ifft(np.conj(ass)*ap))*deltaz\n",
    "else:\n",
    "    ap = tempp"
   ]
  },
  {
   "cell_type": "code",
   "execution_count": 50,
   "id": "e3a7b8f0-11ee-4463-a172-5e386511fd5e",
   "metadata": {
    "tags": []
   },
   "outputs": [],
   "source": [
    "f_tempp  = fft.fftshift(fft.ifft(ap))*(nt*dtau)        #/sqrt(2*pi); %Final spectrum\n",
    "f_tempp0 = fft.fftshift(fft.ifft(ap0))*(nt*dtau)       # Initial spectrum"
   ]
  },
  {
   "cell_type": "markdown",
   "id": "f127c24d-7a8c-4ae3-8e20-9afd23b210fa",
   "metadata": {},
   "source": [
    "## Plot"
   ]
  },
  {
   "cell_type": "code",
   "execution_count": 51,
   "id": "9077ecd7-74c9-4e68-a403-cdc691fd9961",
   "metadata": {},
   "outputs": [
    {
     "data": {
      "image/png": "[encoded data removed]",
      "text/plain": [
       "<Figure size 640x480 with 1 Axes>"
      ]
     },
     "metadata": {},
     "output_type": "display_data"
    }
   ],
   "source": [
    "lambdap  = 2*np.pi*c/(fft.fftshift(omega)+2*np.pi*c/lambda0)\n",
    "loss1    = 10*np.log10((np.sum(abs(ap))**2)/(np.sum(ap0)**2))/distance/100\n",
    "\n",
    "f_tempp2 = 10*np.log10(f_tempp*np.conj(f_tempp)/np.max(f_tempp0*np.conj(f_tempp0)))\n",
    "x = lambdap * (10 ** 9)\n",
    "y = f_tempp2[0].real\n",
    "xx = fft.fftshift(lambdap) * (10 ** 9)\n",
    "yy = 10 * np.log10(Trans*np.conj(Trans))\n",
    "sns.set(style=\"darkgrid\")\n",
    "\n",
    "fig, ax = plt.subplots()\n",
    "ax.plot(x, y, label=\"Curve\", color=\"#191970\")\n",
    "ax.plot(xx, yy, label=\"Curve\", color=\"#9F2B68\")\n",
    "ax.fill(xx,yy, facecolor='#9F2B68', linewidth=1, alpha=0.5)\n",
    "ax.fill(x,y, facecolor='#191970', linewidth=1, alpha=0.4)\n",
    "ax.legend()\n",
    "plt.xlim([1530,1570])\n",
    "plt.ylim([-40,1])\n",
    "plt.show()"
   ]
  },
  {
   "cell_type": "code",
   "execution_count": 52,
   "id": "f6156318-7d58-420f-9c31-89fa119399ae",
   "metadata": {},
   "outputs": [
    {
     "data": {
      "image/png": "[encoded data removed]",
      "text/plain": [
       "<Figure size 640x480 with 1 Axes>"
      ]
     },
     "metadata": {},
     "output_type": "display_data"
    }
   ],
   "source": [
    "x = fft.fftshift(lambdap) * (10 ** 9)\n",
    "y = 10*np.log10(aaa*np.conj(aaa))\n",
    "\n",
    "fig, ax = plt.subplots()\n",
    "ax.plot(x, y, label=\"Curve\")\n",
    "#ax.plot(xx, yy, label=\"Curve\")\n",
    "\n",
    "ax.legend()\n",
    "plt.xlim([1530,1570])\n",
    "plt.ylim([-40,0])\n",
    "plt.show()"
   ]
  },
  {
   "cell_type": "code",
   "execution_count": 53,
   "id": "7e52b008-80f1-4a3b-8dcc-d76e8ec7c5e3",
   "metadata": {},
   "outputs": [
    {
     "data": {
      "text/plain": [
       "1.6e-10"
      ]
     },
     "execution_count": 53,
     "metadata": {},
     "output_type": "execute_result"
    }
   ],
   "source": [
    "betaTPA*I0p"
   ]
  },
  {
   "cell_type": "code",
   "execution_count": 54,
   "id": "54b08541-7fa7-4599-8642-3b151b77766b",
   "metadata": {},
   "outputs": [],
   "source": [
    "class GeSbS:\n",
    "    import numpy as np\n",
    "    def __init__(self, N,T_window,lambda_0):\n",
    "        self.N = N\n",
    "        self.T_window   = T_window\n",
    "        self.lambda_0   = lambda_0\n",
    "        \n",
    "        # Ventana temporal\n",
    "        self.t_step     = T_window / N\n",
    "        self.t_vector   = np.arange(-N/2,N/2,1) * t_step \n",
    "        \n",
    "        \n",
    "        self.w_window   = 2*np.pi / T_window\n",
    "        self.w_step     = w_window / N\n",
    "        self.w_vector   = np.arange(-N/2,N/2,1) * w_step\n",
    "        string = 'Prueba'\n",
    "        self.string = string\n",
    "    \n",
    "    def first(self):\n",
    "        return self.w_vector"
   ]
  },
  {
   "cell_type": "code",
   "execution_count": 55,
   "id": "841cfb5d-980f-4b47-bae0-c3374a040907",
   "metadata": {},
   "outputs": [
    {
     "ename": "TypeError",
     "evalue": "GeSbS.__init__() missing 3 required positional arguments: 'N', 'T_window', and 'lambda_0'",
     "output_type": "error",
     "traceback": [
      "\u001b[0;31m---------------------------------------------------------------------------\u001b[0m",
      "\u001b[0;31mTypeError\u001b[0m                                 Traceback (most recent call last)",
      "Cell \u001b[0;32mIn[55], line 1\u001b[0m\n\u001b[0;32m----> 1\u001b[0m \u001b[43mGeSbS\u001b[49m\u001b[43m(\u001b[49m\u001b[43m)\u001b[49m\u001b[38;5;241m.\u001b[39mfirst((\u001b[38;5;241m2\u001b[39m \u001b[38;5;241m*\u001b[39m\u001b[38;5;241m*\u001b[39m \u001b[38;5;241m13\u001b[39m))\n",
      "\u001b[0;31mTypeError\u001b[0m: GeSbS.__init__() missing 3 required positional arguments: 'N', 'T_window', and 'lambda_0'"
     ]
    }
   ],
   "source": [
    "GeSbS().first((2 ** 13))"
   ]
  },
  {
   "cell_type": "code",
   "execution_count": 1,
   "id": "ad4a199b-ddf3-4041-867e-3c519070dcc7",
   "metadata": {},
   "outputs": [],
   "source": [
    "import numpy as np\n",
    "import numpy.fft as fft"
   ]
  },
  {
   "cell_type": "code",
   "execution_count": 28,
   "id": "17c14b38-c774-4631-b2be-27095ddcfa30",
   "metadata": {},
   "outputs": [],
   "source": [
    "# ventanas\n",
    "N = 4096                                                # Muestreo temporal\n",
    "T_window   = 100 * (10 ** -12)                                         # Ventana temporal\n",
    "t_step     = T_window / N                                    # Paso temporal\n",
    "t_vector   = np.arange(-N/2,N/2,1) * t_step         # vector de tiempo\n",
    "w_window   = 2*np.pi / T_window                                       # ventana frecuencial\n",
    "w_step     = w_window / N                                    # paso frecuencial\n",
    "#w_vector   = np.arange(-N/2,N/2,1) * w_step         # vector de frecuencias\n",
    "w_vector   = (np.pi/T_window) * np.concatenate((np.arange(-(N/2)+1,1,1), np.arange(0,(N/2),1)))"
   ]
  },
  {
   "cell_type": "code",
   "execution_count": 29,
   "id": "5142883e-74f8-45ea-bb25-2e900bc06f56",
   "metadata": {},
   "outputs": [],
   "source": [
    "# pulso\n",
    "P             = 20                                  # potencia de entrada en W\n",
    "c             = 3 * (10 **8)\n",
    "lambda_0      = 1550 * (10 ** -9)                  # longitud de onda central\n",
    "FWHM          = 1000 * (10 ** -9)                  # Full Width Half Maximum\n",
    "width         = 5.72 * (10 ** -9)                  # Tamaño del espectro transmitido\n",
    "lambda_i      = lambda_0 - (FWHM/2)                # W inicial\n",
    "lambda_f      = lambda_0 + (FWHM/2)                # W final\n",
    "lambda_vector = np.linspace(lambda_i,lambda_f,N)   # vector de lambda\n",
    "pulse_aux     = np.float128(-( (lambda_vector - lambda_0) / (width*2) ) ** 2)    # Gaussiana\n",
    "pulse         = np.exp(pulse_aux)                                                # Gaussiana\n",
    "fourier_pulse = fft.fft(pulse)                                                   # Transformada de Fourier pulso\n",
    "input_field   = fourier_pulse / np.max(fourier_pulse)                            # pulso de entrada"
   ]
  },
  {
   "cell_type": "code",
   "execution_count": 30,
   "id": "3fa0c2da-3d7e-41dd-b604-990a85ec0791",
   "metadata": {},
   "outputs": [],
   "source": [
    "# Parametros del dispositivo\n",
    "\n",
    "#parametros lineales\n",
    "device_length = 13 * (10 ** -3)                                           # largo del dispositivo\n",
    "betas         = np.array([-6.99 * (10 ** -25), -7.27929 * (10 ** -39)])   # parametros de dispersión - beta[0]=s^2/m, beta[1]=s^3/m\n",
    "A_eff         = .42 * (10 ** -12)                                         # Area efectiva (m^2)\n",
    "Losses        = 0                                                         # Perdidas lineales dB/cm\n",
    "alpha         = 0                                                         # Perdidas lineales en cm^-1\n",
    "\n",
    "#parametros no lineales\n",
    "n2            = 10 * (10 ** -18)                                          # Indice de refracción no lineal (m^2)/W\n",
    "#gamma         = (2 * np.pi * n2) / (lambda_0 * A_eff)                     # Parametro no lineal\n",
    "gamma         = 100"
   ]
  },
  {
   "cell_type": "code",
   "execution_count": 31,
   "id": "617db027-f5f4-4d6c-bf8b-3e433cdd05a3",
   "metadata": {},
   "outputs": [],
   "source": [
    "# Especificaciones de la simulación\n",
    "step_number = 1000                                 # pasos de la simulación\n",
    "dz          = device_length / step_number          # tamaño de paso"
   ]
  },
  {
   "cell_type": "code",
   "execution_count": 32,
   "id": "941d6044-8843-4783-9d65-695d93e167a2",
   "metadata": {},
   "outputs": [
    {
     "data": {
      "text/plain": [
       "array([-6.43084016e+13, -6.42769857e+13, -6.42455698e+13, ...,\n",
       "        6.42455698e+13,  6.42769857e+13,  6.43084016e+13])"
      ]
     },
     "execution_count": 32,
     "metadata": {},
     "output_type": "execute_result"
    }
   ],
   "source": [
    "# Operadores\n",
    "dispersion_operator = np.exp(1j*(0.5*betas[0]*(w_vector**2)-w_vector)*dz)*np.exp(1j*(1/6)*betas[1]*(w_vector**3)*dz)*np.exp(-alpha/2*dz) # phase factor of the pump wave\n",
    "nonlineal_operator  = 1j*P*gamma*dz               # Operador no lineal\n",
    "w_vector"
   ]
  },
  {
   "cell_type": "code",
   "execution_count": 33,
   "id": "b4c6ac4d-76bc-4bd0-8acb-5bcc7e2eb018",
   "metadata": {},
   "outputs": [],
   "source": [
    "# Main Loop \n",
    "# Esquema 1/2 nonlinear, dispersion, 1/2 nonlinear\n",
    "Initial_HalfStep = input_field*np.exp((abs(input_field)**2)*nonlineal_operator/2) # 1/2 nonlinear\n",
    "\n",
    "for i in range(1,step_number+1):\n",
    "    \n",
    "    dispersion_HalfStep = fft.ifft(Initial_HalfStep) * dispersion_operator  # dispersion\n",
    "    field               = fft.fft(dispersion_HalfStep)\n",
    "    \n",
    "    Initial_HalfStep        = field * np.exp((abs(field)**2)*nonlineal_operator/2)\n",
    "\n",
    "    \n",
    "field_ssfm  = Initial_HalfStep * np.exp((abs(Initial_HalfStep)**2)*nonlineal_operator/2)   # \n",
    "final_Field = fft.ifft(field_ssfm)"
   ]
  },
  {
   "cell_type": "code",
   "execution_count": 34,
   "id": "663272d1-113a-4695-9cd8-57a828db373b",
   "metadata": {},
   "outputs": [],
   "source": [
    "import matplotlib.pyplot as plt\n",
    "import seaborn as sns"
   ]
  },
  {
   "cell_type": "code",
   "execution_count": 35,
   "id": "cb27c538-4655-4642-aeb8-f06215014726",
   "metadata": {},
   "outputs": [],
   "source": [
    "ifft_input_pulse    = fft.ifft(input_field) * np.conj(fft.ifft(input_field))\n",
    "final_field_dBs     = 10*np.log10( (final_Field*np.conj(final_Field)) / np.max(ifft_input_pulse))\n",
    "lambdap             = 2*np.pi*c/(w_vector+2*np.pi*c/lambda_0)\n",
    "imput_field_dBs     = 10*np.log10( ifft_input_pulse/ np.max(ifft_input_pulse) )"
   ]
  },
  {
   "cell_type": "code",
   "execution_count": 36,
   "id": "290adbaf-316f-432b-8903-65b8d6986913",
   "metadata": {},
   "outputs": [
    {
     "data": {
      "image/png": "[encoded data removed]",
      "text/plain": [
       "<Figure size 640x480 with 1 Axes>"
      ]
     },
     "metadata": {},
     "output_type": "display_data"
    }
   ],
   "source": [
    "x, y = lambdap, final_field_dBs\n",
    "sns.set(style=\"darkgrid\")\n",
    "\n",
    "fig, ax = plt.subplots(dpi=100)\n",
    "ax.plot(x, y, label=\"Curve\", color=\"#191970\")\n",
    "#ax.plot(x,imput_field_dBs, color='red')\n",
    "ax.fill(x,y, facecolor='#191970', linewidth=1, alpha=0.4)\n",
    "plt.ylim([-40,1])\n",
    "#plt.xlim([-40,1])\n",
    "ax.legend()\n",
    "plt.show()"
   ]
  },
  {
   "cell_type": "code",
   "execution_count": null,
   "id": "3a960b7d-fdeb-4cc5-ba5e-2ab79416ab04",
   "metadata": {},
   "outputs": [],
   "source": []
  }
 ],
 "metadata": {
  "kernelspec": {
   "display_name": "Python 3 (ipykernel)",
   "language": "python",
   "name": "python3"
  },
  "language_info": {
   "codemirror_mode": {
    "name": "ipython",
    "version": 3
   },
   "file_extension": ".py",
   "mimetype": "text/x-python",
   "name": "python",
   "nbconvert_exporter": "python",
   "pygments_lexer": "ipython3",
   "version": "3.11.1"
  }
 },
 "nbformat": 4,
 "nbformat_minor": 5
}
