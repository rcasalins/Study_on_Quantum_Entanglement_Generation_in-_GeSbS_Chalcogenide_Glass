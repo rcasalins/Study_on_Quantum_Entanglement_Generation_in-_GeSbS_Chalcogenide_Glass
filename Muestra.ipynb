{
 "cells": [
  {
   "cell_type": "code",
   "execution_count": 21,
   "id": "3867daa5-2cef-496a-aad8-82f8daa49736",
   "metadata": {
    "tags": []
   },
   "outputs": [],
   "source": [
    "class GeSbS:\n",
    "    def __init__(self, N: float,T_window: float):\n",
    "        import numpy as np\n",
    "        \n",
    "        self.N = N                                                                                                  # Muestreo \n",
    "        self.T_window   = T_window                                                                                  # Ventana temporal\n",
    "        \n",
    "        # Ventana temporal derivados\n",
    "        self.t_step     = T_window / N                                                                              # Paso temporal\n",
    "        self.t_vector   = np.arange(-N/2,N/2,1) * self.t_step                                                       # Vector de tiempo\n",
    "        \n",
    "        # Ventana frecuencial\n",
    "        self.w_window   = 2*np.pi / T_window                                                                        # Ventana frecuencial\n",
    "        self.w_step     = self.w_window / N                                                                         # Paso frecuencias\n",
    "        self.w_vector   = (np.pi/T_window) * np.concatenate((np.arange(-(N/2)+1,1,1), np.arange(0,(N/2),1)))        # Vector de frecuencias\n",
    "    \n",
    "    def Gaussian(self, power: float, lambda_0: float, FWHM: float, width: float):\n",
    "        import numpy as np\n",
    "        import numpy.fft as fft\n",
    "        \n",
    "        # instance declaration\n",
    "        self.power         = power                                                                 # input power\n",
    "        self.lambda_0      = lambda_0                                                              # central wavelength\n",
    "        self.FWHM          = FWHM                                                                  # Full Width Half Maximum\n",
    "        self.width         = width                                                                 # spectrum width\n",
    "        self.c             = 3 * (10 **8)\n",
    "        \n",
    "        # equation values\n",
    "        self.lambda_i      = lambda_0 - (FWHM/2)                                                   # initial wavelength\n",
    "        self.lambda_f      = lambda_0 + (FWHM/2)                                                   # final wavelength\n",
    "        self.lambda_vector = np.linspace(self.lambda_i,self.lambda_f,self.N)                       # lambda vector\n",
    "        self.pulse_aux     = np.float128(-( (self.lambda_vector - lambda_0) / (width*2) ) ** 2)    # Gaussian exponential argument\n",
    "        self.pulse         = np.exp(self.pulse_aux)                                                # Gaussian equation\n",
    "        \n",
    "        # Fourier\n",
    "        self.fourier_pulse = fft.fft(self.pulse)\n",
    "        self.input_field   = self.fourier_pulse / np.max(self.fourier_pulse)\n",
    "        \n",
    "        return self.input_field"
   ]
  },
  {
   "cell_type": "code",
   "execution_count": 22,
   "id": "443b698b-a9df-4ff7-9da6-693426a5cd67",
   "metadata": {
    "tags": []
   },
   "outputs": [
    {
     "data": {
      "text/plain": [
       "array([ 1.        +0.j        , -0.9987095 -0.000766j  ,\n",
       "        0.99484798+0.00152608j, ..., -0.98844527+0.00227439j,\n",
       "        0.99484798-0.00152608j, -0.9987095 +0.000766j  ])"
      ]
     },
     "execution_count": 22,
     "metadata": {},
     "output_type": "execute_result"
    }
   ],
   "source": [
    "GeSbS(N = 4096,T_window = 100 * (10 ** -12)).Gaussian(power = 20, lambda_0 = 1550 * (10 ** -9), FWHM = 1000 * (10 ** -9), width = 5.72 * (10 ** -9))"
   ]
  }
 ],
 "metadata": {
  "kernelspec": {
   "display_name": "Python 3 (ipykernel)",
   "language": "python",
   "name": "python3"
  },
  "language_info": {
   "codemirror_mode": {
    "name": "ipython",
    "version": 3
   },
   "file_extension": ".py",
   "mimetype": "text/x-python",
   "name": "python",
   "nbconvert_exporter": "python",
   "pygments_lexer": "ipython3",
   "version": "3.11.1"
  }
 },
 "nbformat": 4,
 "nbformat_minor": 5
}
