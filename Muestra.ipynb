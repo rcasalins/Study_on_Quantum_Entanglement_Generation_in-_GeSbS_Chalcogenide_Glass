{
 "cells": [
  {
   "cell_type": "code",
   "execution_count": null,
   "id": "358ac7fd-dcd9-4ae6-b772-83a318874df2",
   "metadata": {},
   "outputs": [],
   "source": [
    "class GeSbS:\n",
    "    import numpy as np\n",
    "    import numpy.fft as fft\n",
    "    def __init__(self, N,T_window,lambda_0):\n",
    "        self.N = N                             # Muestreo \n",
    "        self.T_window   = T_window\n",
    "        self.lambda_0   = lambda_0\n",
    "        \n",
    "        # Ventana temporal\n",
    "        self.t_step     = T_window / N\n",
    "        self.t_vector   = np.arange(-N/2,N/2,1) * t_step \n",
    "        \n",
    "        \n",
    "        self.w_window   = 2*np.pi / T_window\n",
    "        self.w_step     = w_window / N\n",
    "        self.w_vector   = np.arange(-N/2,N/2,1) * w_step\n",
    "        string = 'Prueba'\n",
    "        self.string = string\n",
    "    \n",
    "    def first(self):\n",
    "        return self.w_vector"
   ]
  }
 ],
 "metadata": {
  "kernelspec": {
   "display_name": "Python 3 (ipykernel)",
   "language": "python",
   "name": "python3"
  },
  "language_info": {
   "codemirror_mode": {
    "name": "ipython",
    "version": 3
   },
   "file_extension": ".py",
   "mimetype": "text/x-python",
   "name": "python",
   "nbconvert_exporter": "python",
   "pygments_lexer": "ipython3",
   "version": "3.11.1"
  }
 },
 "nbformat": 4,
 "nbformat_minor": 5
}
